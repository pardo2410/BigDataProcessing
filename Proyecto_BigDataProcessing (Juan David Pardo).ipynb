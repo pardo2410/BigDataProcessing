{
 "cells": [
  {
   "cell_type": "markdown",
   "id": "d422518d",
   "metadata": {},
   "source": [
    "# Proyecto: Big Data Processing"
   ]
  },
  {
   "cell_type": "markdown",
   "id": "9c1b9e8c",
   "metadata": {},
   "source": [
    "Tenemos el dataset que contiene el reporte de países y su índice de felicidad en el transcurso de los años **(world-happiness-report-2021.csv y world-happiness-report.csv)** se les pide a los alumnos desarrollar y responder las siguiente preguntas, utilizando las herramientas vistas a lo largo del módulo."
   ]
  },
  {
   "cell_type": "code",
   "execution_count": 1,
   "id": "41bf3bc1",
   "metadata": {},
   "outputs": [],
   "source": [
    "import pyspark\n",
    "#Creamos una sesion de spark\n",
    "from pyspark.sql import SparkSession\n",
    "#Creamos un objeto de spark session\n",
    "spark = SparkSession.builder.appName(\"pysparkdf\").getOrCreate()"
   ]
  },
  {
   "cell_type": "code",
   "execution_count": 2,
   "id": "9098d0cd",
   "metadata": {},
   "outputs": [],
   "source": [
    "paths = [\"C:/Users/pardo/Documents/BigData_AI_MachineLearning_FullStackBootcamp_2023/8.Big Data Processing/big-data-processing-main/PROYECTO FINAL/Datasets/world-happiness-report.csv\", \"C:/Users/pardo/Documents/BigData_AI_MachineLearning_FullStackBootcamp_2023/8.Big Data Processing/big-data-processing-main/PROYECTO FINAL/Datasets/world-happiness-report-2021.csv\"]\n",
    "# Load all distinct CSV files\n",
    "df1 = spark.read.option(\"header\", \"true\").csv(paths[0])\n",
    "df2 = spark.read.option(\"header\", \"true\").csv(paths[1])"
   ]
  },
  {
   "cell_type": "code",
   "execution_count": 117,
   "id": "6ed039e0",
   "metadata": {
    "scrolled": true
   },
   "outputs": [
    {
     "name": "stdout",
     "output_type": "stream",
     "text": [
      "root\n",
      " |-- Country name: string (nullable = true)\n",
      " |-- Region: string (nullable = true)\n",
      " |-- year: string (nullable = true)\n",
      " |-- Life Ladder: string (nullable = true)\n",
      " |-- Log GDP per capita: string (nullable = true)\n",
      " |-- Social support: string (nullable = true)\n",
      " |-- Healthy life expectancy at birth: string (nullable = true)\n",
      " |-- Freedom to make life choices: string (nullable = true)\n",
      " |-- Generosity: string (nullable = true)\n",
      " |-- Perceptions of corruption: string (nullable = true)\n",
      " |-- Negative affect: string (nullable = true)\n",
      "\n",
      "root\n",
      " |-- Country name: string (nullable = true)\n",
      " |-- Regional indicator: string (nullable = true)\n",
      " |-- Region: string (nullable = true)\n",
      " |-- Ladder score: string (nullable = true)\n",
      " |-- Standard error of ladder score: string (nullable = true)\n",
      " |-- upperwhisker: string (nullable = true)\n",
      " |-- lowerwhisker: string (nullable = true)\n",
      " |-- Logged GDP per capita: string (nullable = true)\n",
      " |-- Social support: string (nullable = true)\n",
      " |-- Healthy life expectancy: string (nullable = true)\n",
      " |-- Freedom to make life choices: string (nullable = true)\n",
      " |-- Generosity: string (nullable = true)\n",
      " |-- Perceptions of corruption: string (nullable = true)\n",
      " |-- Ladder score in Dystopia: string (nullable = true)\n",
      " |-- Explained by: Log GDP per capita: string (nullable = true)\n",
      " |-- Explained by: Social support: string (nullable = true)\n",
      " |-- Explained by: Healthy life expectancy: string (nullable = true)\n",
      " |-- Explained by: Freedom to make life choices: string (nullable = true)\n",
      " |-- Explained by: Generosity: string (nullable = true)\n",
      " |-- Explained by: Perceptions of corruption: string (nullable = true)\n",
      " |-- Dystopia + residual: string (nullable = true)\n",
      "\n"
     ]
    }
   ],
   "source": [
    "# Schema Tabla world-happiness-report.csv\n",
    "df1.printSchema()\n",
    "# Schema Tabla world-happiness-report-2021.csv\n",
    "df2.printSchema()"
   ]
  },
  {
   "cell_type": "code",
   "execution_count": 118,
   "id": "a6f3ca62",
   "metadata": {},
   "outputs": [
    {
     "name": "stdout",
     "output_type": "stream",
     "text": [
      "+------------+----+------+------------------+------------+---------------------+--------------+-----------------------+----------------------------+----------+-------------------------+\n",
      "|Country name|year|Region|Regional indicator|Ladder score|Logged GDP per capita|Social support|Healthy life expectancy|Freedom to make life choices|Generosity|Perceptions of corruption|\n",
      "+------------+----+------+------------------+------------+---------------------+--------------+-----------------------+----------------------------+----------+-------------------------+\n",
      "| Afghanistan|2008|  Asia|              NULL|      3724.0|               7370.0|         0.451|                50800.0|                       0.718|     0.168|                    0.882|\n",
      "| Afghanistan|2009|  Asia|              NULL|      4402.0|               7540.0|         0.552|                51200.0|                       0.679|     0.190|                    0.850|\n",
      "| Afghanistan|2010|  Asia|              NULL|      4758.0|               7647.0|         0.539|                51600.0|                       0.600|     0.121|                    0.707|\n",
      "+------------+----+------+------------------+------------+---------------------+--------------+-----------------------+----------------------------+----------+-------------------------+\n",
      "only showing top 3 rows\n",
      "\n",
      "+------------+----+------+------------------+------------+---------------------+--------------+-----------------------+----------------------------+----------+-------------------------+\n",
      "|Country name|year|Region|Regional indicator|Ladder score|Logged GDP per capita|Social support|Healthy life expectancy|Freedom to make life choices|Generosity|Perceptions of corruption|\n",
      "+------------+----+------+------------------+------------+---------------------+--------------+-----------------------+----------------------------+----------+-------------------------+\n",
      "|     Finland|2021|Europe|    Western Europe|      7842.0|              10775.0|         0.954|                72000.0|                       0.949|    -0.098|                    0.186|\n",
      "|     Denmark|2021|Europe|    Western Europe|      7620.0|              10933.0|         0.954|                72700.0|                       0.946|     0.030|                    0.179|\n",
      "| Switzerland|2021|Europe|    Western Europe|      7571.0|              11117.0|         0.942|                74400.0|                       0.919|     0.025|                    0.292|\n",
      "+------------+----+------+------------------+------------+---------------------+--------------+-----------------------+----------------------------+----------+-------------------------+\n",
      "only showing top 3 rows\n",
      "\n",
      "+------------+----+------+--------------------+------------+---------------------+--------------+-----------------------+----------------------------+----------+-------------------------+\n",
      "|Country name|year|Region|  Regional indicator|Ladder score|Logged GDP per capita|Social support|Healthy life expectancy|Freedom to make life choices|Generosity|Perceptions of corruption|\n",
      "+------------+----+------+--------------------+------------+---------------------+--------------+-----------------------+----------------------------+----------+-------------------------+\n",
      "| Afghanistan|2021|  Asia|          South Asia|      2523.0|               7695.0|         0.463|                52493.0|                       0.382|    -0.102|                    0.924|\n",
      "| Afghanistan|2008|  Asia|                NULL|      3724.0|               7370.0|         0.451|                50800.0|                       0.718|     0.168|                    0.882|\n",
      "| Afghanistan|2009|  Asia|                NULL|      4402.0|               7540.0|         0.552|                51200.0|                       0.679|     0.190|                    0.850|\n",
      "| Afghanistan|2010|  Asia|                NULL|      4758.0|               7647.0|         0.539|                51600.0|                       0.600|     0.121|                    0.707|\n",
      "| Afghanistan|2011|  Asia|                NULL|      3832.0|               7620.0|         0.521|                51920.0|                       0.496|     0.162|                    0.731|\n",
      "| Afghanistan|2012|  Asia|                NULL|      3783.0|               7705.0|         0.521|                52240.0|                       0.531|     0.236|                    0.776|\n",
      "| Afghanistan|2013|  Asia|                NULL|      3572.0|               7725.0|         0.484|                52560.0|                       0.578|     0.061|                    0.823|\n",
      "| Afghanistan|2014|  Asia|                NULL|      3131.0|               7718.0|         0.526|                52880.0|                       0.509|     0.104|                    0.871|\n",
      "| Afghanistan|2015|  Asia|                NULL|      3983.0|               7702.0|         0.529|                53200.0|                       0.389|     0.080|                    0.881|\n",
      "| Afghanistan|2016|  Asia|                NULL|      4220.0|               7697.0|         0.559|                53000.0|                       0.523|     0.042|                    0.793|\n",
      "| Afghanistan|2017|  Asia|                NULL|      2662.0|               7697.0|         0.491|                52800.0|                       0.427|    -0.121|                    0.954|\n",
      "| Afghanistan|2018|  Asia|                NULL|      2694.0|               7692.0|         0.508|                52600.0|                       0.374|    -0.094|                    0.928|\n",
      "| Afghanistan|2019|  Asia|                NULL|      2375.0|               7697.0|         0.420|                52400.0|                       0.394|    -0.108|                    0.924|\n",
      "|     Albania|2021|Europe|Central and Easte...|      5117.0|               9520.0|         0.697|                68999.0|                       0.785|    -0.030|                    0.901|\n",
      "|     Albania|2007|Europe|                NULL|      4634.0|               9142.0|         0.821|                65800.0|                       0.529|    -0.009|                    0.875|\n",
      "|     Albania|2009|Europe|                NULL|      5485.0|               9262.0|         0.833|                66200.0|                       0.525|    -0.158|                    0.864|\n",
      "|     Albania|2010|Europe|                NULL|      5269.0|               9303.0|         0.733|                66400.0|                       0.569|    -0.172|                    0.726|\n",
      "|     Albania|2011|Europe|                NULL|      5867.0|               9331.0|         0.759|                66680.0|                       0.487|    -0.205|                    0.877|\n",
      "|     Albania|2012|Europe|                NULL|      5510.0|               9347.0|         0.785|                66960.0|                       0.602|    -0.169|                    0.848|\n",
      "|     Albania|2013|Europe|                NULL|      4551.0|               9359.0|         0.759|                67240.0|                       0.632|    -0.127|                    0.863|\n",
      "+------------+----+------+--------------------+------------+---------------------+--------------+-----------------------+----------------------------+----------+-------------------------+\n",
      "only showing top 20 rows\n",
      "\n"
     ]
    }
   ],
   "source": [
    "# Preparacion de los datos\n",
    "from pyspark.sql.functions import lit, col\n",
    "# Preparacion Tabla world-happiness-report.csv\n",
    "df1_mod = df1.withColumn(\"Regional indicator\", lit(None))\n",
    "df1_fnl = df1_mod.select(col(\"Country name\").alias(\"Country name\"), col(\"year\").alias(\"year\").cast(\"Int\"),\"Region\",\"Regional indicator\", col(\"Life Ladder\").alias(\"Ladder score\").cast(\"float\"), col(\"Log GDP per capita\").alias(\"Logged GDP per capita\").cast(\"float\"), col(\"Social support\").alias(\"Social support\"), col(\"Healthy life expectancy at birth\").alias(\"Healthy life expectancy\").cast(\"float\"), col(\"Freedom to make life choices\").alias(\"Freedom to make life choices\"), col(\"Generosity\").alias(\"Generosity\"), col(\"Perceptions of corruption\").alias(\"Perceptions of corruption\"))\n",
    "df1_fnl.show(3)\n",
    "\n",
    "# Preparacion Tabla world-happiness-report-2021.csv\n",
    "df2_mod = df2.withColumn(\"year\", lit(2021))\n",
    "df2_fnl = df2_mod.select(\"Country name\",col(\"year\").cast(\"Int\"),\"Region\",\"Regional indicator\", col(\"Ladder score\").cast(\"float\"),col(\"Logged GDP per capita\").cast(\"float\"),\"Social support\", col(\"Healthy life expectancy\").cast(\"float\"),\"Freedom to make life choices\",\"Generosity\",\"Perceptions of corruption\" )\n",
    "df2_fnl.show(3)\n",
    "\n",
    "# Tabla maestra (Tabla unificada)\n",
    "df3 = df1_fnl.unionByName(df2_fnl)\n",
    "df3.orderBy(col(\"Country name\").asc()).show(20)"
   ]
  },
  {
   "cell_type": "markdown",
   "id": "44e18f7b",
   "metadata": {},
   "source": [
    "1. ¿Cuál es el país más “feliz” del 2021 según la data? **(considerar que la columna “Ladder score” mayor número más feliz es el país)**"
   ]
  },
  {
   "cell_type": "code",
   "execution_count": 77,
   "id": "7a280a94",
   "metadata": {},
   "outputs": [
    {
     "name": "stdout",
     "output_type": "stream",
     "text": [
      "+------------+----+------+------------------+------------+\n",
      "|Country name|year|Region|Regional indicator|Ladder score|\n",
      "+------------+----+------+------------------+------------+\n",
      "|     Finland|2021|Europe|    Western Europe|      7842.0|\n",
      "+------------+----+------+------------------+------------+\n",
      "\n"
     ]
    }
   ],
   "source": [
    "from pyspark.sql.functions import col, max\n",
    "\n",
    "# Calcula el valor máximo de 'Ladder score'\n",
    "max_ladder_score = df2.agg(max(\"Ladder score\")).collect()[0][0]\n",
    "\n",
    "# Filtra el DataFrame usando el valor máximo calculado\n",
    "result = df3.filter((col(\"year\") == 2021) & (col(\"Ladder score\") == max_ladder_score))\n",
    "\n",
    "result.select(\"Country name\", \"year\", \"Region\", \"Regional indicator\", \"Ladder score\").show()\n"
   ]
  },
  {
   "cell_type": "markdown",
   "id": "72b590ba",
   "metadata": {},
   "source": [
    "2. ¿Cuál es el país más “feliz” del 2021 por region según la data?"
   ]
  },
  {
   "cell_type": "code",
   "execution_count": 78,
   "id": "d07a1bf5",
   "metadata": {},
   "outputs": [
    {
     "name": "stdout",
     "output_type": "stream",
     "text": [
      "+------------+----+-------------+--------------------+------------+----+\n",
      "|Country name|year|       Region|  Regional indicator|Ladder score|rank|\n",
      "+------------+----+-------------+--------------------+------------+----+\n",
      "|     Bahrain|2021|       Africa|Middle East and N...|      6647.0|   1|\n",
      "|      Israel|2021|         Asia|Middle East and N...|      7157.0|   1|\n",
      "|     Finland|2021|       Europe|      Western Europe|      7842.0|   1|\n",
      "|      Canada|2021|North America|North America and...|      7103.0|   1|\n",
      "| New Zealand|2021|      Oceania|North America and...|      7277.0|   1|\n",
      "|  Costa Rica|2021|South America|Latin America and...|      7069.0|   1|\n",
      "+------------+----+-------------+--------------------+------------+----+\n",
      "\n"
     ]
    }
   ],
   "source": [
    "from pyspark.sql import SparkSession\n",
    "from pyspark.sql.functions import col, max, row_number\n",
    "from pyspark.sql.window import Window\n",
    "\n",
    "# Filtrar por el año 2021 y calcular el máximo \"Ladder score\" por región\n",
    "max_ladder_por_region = df3.groupBy(\"Country name\", \"year\", \"Region\", \"Regional indicator\").agg(max(\"Ladder score\").alias(\"Ladder score\"))\n",
    "felicidad_2021 = max_ladder_por_region.filter(col(\"year\") == 2021)\n",
    "\n",
    "# Definir la ventana por región y ordenar por \"Ladder score\" en orden descendente\n",
    "window_spec = Window.partitionBy(\"Region\").orderBy(col(\"Ladder score\").desc())\n",
    "\n",
    "\n",
    "# Asignar un número de fila a cada registro dentro de cada región\n",
    "max_ladder_por_region_with_rank = felicidad_2021.withColumn(\"rank\", row_number().over(window_spec))\n",
    "\n",
    "\n",
    "# Filtrar solo los registros con rank igual a 1 (el máximo \"Ladder score\" por región)\n",
    "max_ladder_por_region_with_rank.filter(col(\"rank\") == 1).show()\n"
   ]
  },
  {
   "cell_type": "markdown",
   "id": "bac75f6d",
   "metadata": {},
   "source": [
    "3. ¿Cuál es el país que más veces ocupó el primer lugar en todos los años?"
   ]
  },
  {
   "cell_type": "code",
   "execution_count": 79,
   "id": "4729eb90",
   "metadata": {},
   "outputs": [
    {
     "name": "stdout",
     "output_type": "stream",
     "text": [
      "+------------+----+-------------+------------+----+\n",
      "|Country name|year|       Region|Ladder score|rank|\n",
      "+------------+----+-------------+------------+----+\n",
      "|     Denmark|2005|       Europe|      8019.0|   1|\n",
      "|     Finland|2006|       Europe|      7672.0|   1|\n",
      "|     Denmark|2007|       Europe|      7834.0|   1|\n",
      "|     Denmark|2008|       Europe|      7971.0|   1|\n",
      "|     Denmark|2009|       Europe|      7683.0|   1|\n",
      "|     Denmark|2010|       Europe|      7771.0|   1|\n",
      "|     Denmark|2011|       Europe|      7788.0|   1|\n",
      "| Switzerland|2012|       Europe|      7776.0|   1|\n",
      "|      Canada|2013|North America|      7594.0|   1|\n",
      "|     Denmark|2014|       Europe|      7508.0|   1|\n",
      "|      Norway|2015|       Europe|      7603.0|   1|\n",
      "|     Finland|2016|       Europe|      7660.0|   1|\n",
      "|     Finland|2017|       Europe|      7788.0|   1|\n",
      "|     Finland|2018|       Europe|      7858.0|   1|\n",
      "|     Finland|2019|       Europe|      7780.0|   1|\n",
      "|     Finland|2020|       Europe|      7889.0|   1|\n",
      "|     Finland|2021|       Europe|      7842.0|   1|\n",
      "+------------+----+-------------+------------+----+\n",
      "\n",
      "+------------+---------+\n",
      "|Country name|sum(rank)|\n",
      "+------------+---------+\n",
      "|     Finland|        7|\n",
      "|      Norway|        1|\n",
      "|     Denmark|        7|\n",
      "| Switzerland|        1|\n",
      "|      Canada|        1|\n",
      "+------------+---------+\n",
      "\n"
     ]
    }
   ],
   "source": [
    "from pyspark.sql import SparkSession\n",
    "from pyspark.sql.functions import col, max, row_number\n",
    "from pyspark.sql.window import Window\n",
    "\n",
    "primer_lugar = df3.groupBy(\"Country name\", \"year\", \"Region\").agg(max(\"Ladder score\").alias(\"Ladder score\"))\n",
    "\n",
    "# Definir la ventana por región y ordenar por \"Ladder score\" en orden descendente\n",
    "window_spec1 = Window.partitionBy(\"year\").orderBy(col(\"Ladder score\").desc())\n",
    "\n",
    "\n",
    "# Asignar un número de fila a cada registro dentro de cada región\n",
    "primer_lugar_with_rank = primer_lugar.withColumn(\"rank\", row_number().over(window_spec1))\n",
    "\n",
    "contar_primer_lugar = primer_lugar_with_rank.filter(col(\"rank\") == 1)\n",
    "\n",
    "# Paises que ocupan el primer puesto por año de Ladder score\n",
    "contar_primer_lugar.show()\n",
    "\n",
    "# Tabla acumulada de paises que ocupan el primer lugar en todos los años\n",
    "contar_primer_lugar.groupBy(\"Country name\").sum(\"rank\").show()"
   ]
  },
  {
   "cell_type": "markdown",
   "id": "472339dd",
   "metadata": {},
   "source": [
    "4. ¿Qué puesto de Felicidad tiene el país con mayor GDP del 2020?"
   ]
  },
  {
   "cell_type": "code",
   "execution_count": 97,
   "id": "b8b6a56e",
   "metadata": {},
   "outputs": [
    {
     "name": "stdout",
     "output_type": "stream",
     "text": [
      "+--------------------+----+-------------+------------+---------------------+----+\n",
      "|        Country name|year|       Region|Ladder score|Logged GDP per capita|rank|\n",
      "+--------------------+----+-------------+------------+---------------------+----+\n",
      "|             Ireland|2020|       Europe|      7035.0|              11323.0|   1|\n",
      "|         Switzerland|2020|       Europe|      7508.0|              11081.0|   2|\n",
      "|United Arab Emirates|2020|         Asia|      6458.0|              11053.0|   3|\n",
      "|              Norway|2020|       Europe|      7290.0|              11042.0|   4|\n",
      "|       United States|2020|North America|      7028.0|              11001.0|   5|\n",
      "|             Denmark|2020|       Europe|      7515.0|              10910.0|   6|\n",
      "|         Netherlands|2020|       Europe|      7504.0|              10901.0|   7|\n",
      "|             Austria|2020|       Europe|      7213.0|              10851.0|   8|\n",
      "|              Sweden|2020|       Europe|      7314.0|              10838.0|   9|\n",
      "|             Germany|2020|       Europe|      7312.0|              10833.0|  10|\n",
      "|             Iceland|2020|       Europe|      7575.0|              10824.0|  11|\n",
      "|             Belgium|2020|       Europe|      6839.0|              10771.0|  12|\n",
      "|           Australia|2020|      Oceania|      7137.0|              10760.0|  13|\n",
      "|             Finland|2020|       Europe|      7889.0|              10750.0|  14|\n",
      "|              Canada|2020|North America|      7025.0|              10730.0|  15|\n",
      "|        Saudi Arabia|2020|         Asia|      6560.0|              10701.0|  16|\n",
      "|         South Korea|2020|         Asia|      5793.0|              10648.0|  17|\n",
      "|              France|2020|       Europe|      6714.0|              10643.0|  18|\n",
      "|      United Kingdom|2020|       Europe|      6798.0|              10626.0|  19|\n",
      "|             Bahrain|2020|         Asia|      6173.0|              10620.0|  20|\n",
      "+--------------------+----+-------------+------------+---------------------+----+\n",
      "only showing top 20 rows\n",
      "\n"
     ]
    }
   ],
   "source": [
    "from pyspark.sql import SparkSession\n",
    "from pyspark.sql.functions import col, max, row_number\n",
    "from pyspark.sql.window import Window\n",
    "\n",
    "# Filtrar por el año 2021 y calcular el máximo \"Ladder score\" por región\n",
    "Logged_GDP_per_capita = df3.groupBy(\"Country name\", \"year\", \"Region\",\"Ladder score\").agg(max(\"Logged GDP per capita\").alias(\"Logged GDP per capita\"))\n",
    "Logged_GDP_per_capita_filter = Logged_GDP_per_capita.filter(col(\"year\") == 2020)\n",
    "\n",
    "Max_Logged_GDP_per_capita =Logged_GDP_per_capita_filter.orderBy(col(\"Logged GDP per capita\").desc())\n",
    "# Definir la ventana por región y ordenar por \"Ladder score\" en orden descendente\n",
    "window_spec3 = Window.partitionBy().orderBy(col(\"Logged GDP per capita\").desc())\n",
    "\n",
    "\n",
    "# Asignar un número de fila a cada registro dentro de cada región\n",
    "max_ladder_por_region_with_rank = Max_Logged_GDP_per_capita.withColumn(\"rank\", row_number().over(window_spec3))\n",
    "\n",
    "max_ladder_por_region_with_rank.show()\n"
   ]
  },
  {
   "cell_type": "code",
   "execution_count": 109,
   "id": "06e99d96",
   "metadata": {},
   "outputs": [
    {
     "name": "stdout",
     "output_type": "stream",
     "text": [
      "+------------+----+------+------------+---------------------+---+\n",
      "|Country name|year|Region|Ladder score|Logged GDP per capita| id|\n",
      "+------------+----+------+------------+---------------------+---+\n",
      "|     Ireland|2020|Europe|      7035.0|              11323.0| 68|\n",
      "+------------+----+------+------------+---------------------+---+\n",
      "only showing top 1 row\n",
      "\n"
     ]
    }
   ],
   "source": [
    "from pyspark.sql import SparkSession\n",
    "from pyspark.sql.functions import col, max, row_number, monotonically_increasing_id\n",
    "from pyspark.sql.window import Window\n",
    "\n",
    "# Filtrar por el año 2021 y calcular el máximo \"Ladder score\" por región\n",
    "Logged_GDP_per_capita_filter = Logged_GDP_per_capita.filter(col(\"year\") == 2020)\n",
    "\n",
    "# Asignar un identificador único a cada fila\n",
    "Logged_GDP_per_capita_with_id = Logged_GDP_per_capita_filter.withColumn(\"id\", monotonically_increasing_id())\n",
    "\n",
    "# Ordenar por \"Logged GDP per capita\" en orden descendente\n",
    "Max_Logged_GDP_per_capita = Logged_GDP_per_capita_with_id.orderBy(col(\"Logged GDP per capita\").desc()).show(1)"
   ]
  },
  {
   "cell_type": "markdown",
   "id": "2c57a042",
   "metadata": {},
   "source": [
    "5. ¿En que porcentaje a variado a nivel mundial el GDP promedio del 2020 respecto al 2021? ¿Aumentó o disminuyó?"
   ]
  },
  {
   "cell_type": "code",
   "execution_count": 115,
   "id": "328072fd",
   "metadata": {},
   "outputs": [
    {
     "name": "stdout",
     "output_type": "stream",
     "text": [
      "+-------------------+\n",
      "|avg_logged_gdp_2020|\n",
      "+-------------------+\n",
      "|  9751.329545454546|\n",
      "+-------------------+\n",
      "\n",
      "+-------------------+\n",
      "|avg_logged_gdp_2021|\n",
      "+-------------------+\n",
      "|  9432.208053691274|\n",
      "+-------------------+\n",
      "\n",
      "Crecimiento porcentual: -3.272594678251088%\n"
     ]
    }
   ],
   "source": [
    "from pyspark.sql import SparkSession\n",
    "from pyspark.sql.functions import col, avg\n",
    "\n",
    "table_2020 = df3.filter(col(\"year\") == 2020)\n",
    "table_2021 = df3.filter(col(\"year\") == 2021)\n",
    "\n",
    "# table_2020.avg(\"Logged GDP per capita\").show()\n",
    "# table_2021.avg(\"Logged GDP per capita\").show()\n",
    "\n",
    "# Filtrar por el año 2020 y calcular el promedio de \"Logged GDP per capita\"\n",
    "table_2020 = df3.filter(col(\"year\") == 2020)\n",
    "avg_2020 = table_2020.agg(avg(\"Logged GDP per capita\").alias(\"avg_logged_gdp_2020\"))\n",
    "avg_2020.show()\n",
    "\n",
    "# Filtrar por el año 2021 y calcular el promedio de \"Logged GDP per capita\"\n",
    "table_2021 = df3.filter(col(\"year\") == 2021)\n",
    "avg_2021 = table_2021.agg(avg(\"Logged GDP per capita\").alias(\"avg_logged_gdp_2021\"))\n",
    "avg_2021.show()\n",
    "\n",
    "# Obtener los valores numéricos para realizar la operación de crecimiento porcentual\n",
    "avg_2020_value = avg_2020.collect()[0][\"avg_logged_gdp_2020\"]\n",
    "avg_2021_value = avg_2021.collect()[0][\"avg_logged_gdp_2021\"]\n",
    "\n",
    "# Calcular el crecimiento porcentual\n",
    "crecimiento_avg = (avg_2021_value - avg_2020_value) / avg_2020_value * 100\n",
    "\n",
    "print(f\"Crecimiento porcentual: {crecimiento_avg}%\")"
   ]
  },
  {
   "cell_type": "markdown",
   "id": "791fc870",
   "metadata": {},
   "source": [
    "6. ¿Cuál es el país con mayor expectativa de vide **(“Healthy life expectancy at birth”)**? Y ¿Cuánto tenia en ese indicador en el 2019?"
   ]
  },
  {
   "cell_type": "code",
   "execution_count": 132,
   "id": "ffc4da2f",
   "metadata": {},
   "outputs": [
    {
     "name": "stdout",
     "output_type": "stream",
     "text": [
      "Tabla por año de los paises con mayor expectativa de vida\n",
      "+--------------------+----+------+------------+-----------------------+\n",
      "|        Country name|year|Region|Ladder score|Healthy life expectancy|\n",
      "+--------------------+----+------+------------+-----------------------+\n",
      "|           Singapore|2019|  Asia|      6378.0|                77100.0|\n",
      "|           Singapore|2021|  Asia|      6377.0|                76953.0|\n",
      "|Hong Kong S.A.R. ...|2021|  Asia|      5477.0|                76820.0|\n",
      "|           Singapore|2018|  Asia|      6375.0|                76800.0|\n",
      "|           Singapore|2017|  Asia|      6378.0|                76500.0|\n",
      "|           Singapore|2016|  Asia|      6033.0|                76200.0|\n",
      "|           Singapore|2015|  Asia|      6620.0|                75900.0|\n",
      "|           Singapore|2014|  Asia|      7062.0|                75680.0|\n",
      "|           Singapore|2013|  Asia|      6533.0|                75460.0|\n",
      "|               Japan|2020|  Asia|      6118.0|                75200.0|\n",
      "+--------------------+----+------+------------+-----------------------+\n",
      "only showing top 10 rows\n",
      "\n"
     ]
    }
   ],
   "source": [
    "from pyspark.sql import SparkSession\n",
    "from pyspark.sql.functions import col\n",
    "Healthy_life_expectancy_birth = df3\n",
    "\n",
    "# Ordenar por \"Healthy life expectancy\" en orden descendente\n",
    "Result = Healthy_life_expectancy_birth.orderBy(col(\"Healthy life expectancy\").desc())\n",
    "\n",
    "# Seleccionar la primera fila\n",
    "print(f\"Tabla por año de los paises con mayor expectativa de vida\")\n",
    "Result.select(\"Country name\", \"year\", \"Region\", \"Ladder score\", \"Healthy life expectancy\").show(10)"
   ]
  },
  {
   "cell_type": "code",
   "execution_count": 133,
   "id": "2bf0865c",
   "metadata": {},
   "outputs": [
    {
     "name": "stdout",
     "output_type": "stream",
     "text": [
      "Expectativa de vide en el año 2019\n",
      "+------------+----+------+------------+-----------------------+\n",
      "|Country name|year|Region|Ladder score|Healthy life expectancy|\n",
      "+------------+----+------+------------+-----------------------+\n",
      "|   Singapore|2019|  Asia|      6378.0|                77100.0|\n",
      "+------------+----+------+------------+-----------------------+\n",
      "only showing top 1 row\n",
      "\n"
     ]
    }
   ],
   "source": [
    "from pyspark.sql import SparkSession\n",
    "\n",
    "Healthy_life_expectancy_birth_2019 = df3.filter(col(\"year\") == 2019)\n",
    "\n",
    "print(f\"Expectativa de vide en el año 2019\")\n",
    "Result = Healthy_life_expectancy_birth_2019.orderBy(col(\"Healthy life expectancy\").desc())\n",
    "Result.select(\"Country name\", \"year\", \"Region\", \"Ladder score\",\"Healthy life expectancy\").show(1)"
   ]
  },
  {
   "cell_type": "code",
   "execution_count": null,
   "id": "0d40390a",
   "metadata": {},
   "outputs": [],
   "source": []
  }
 ],
 "metadata": {
  "kernelspec": {
   "display_name": "Python 3 (ipykernel)",
   "language": "python",
   "name": "python3"
  },
  "language_info": {
   "codemirror_mode": {
    "name": "ipython",
    "version": 3
   },
   "file_extension": ".py",
   "mimetype": "text/x-python",
   "name": "python",
   "nbconvert_exporter": "python",
   "pygments_lexer": "ipython3",
   "version": "3.11.5"
  }
 },
 "nbformat": 4,
 "nbformat_minor": 5
}
